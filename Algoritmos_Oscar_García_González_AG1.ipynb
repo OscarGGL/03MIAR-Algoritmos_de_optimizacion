{
  "nbformat": 4,
  "nbformat_minor": 0,
  "metadata": {
    "colab": {
      "provenance": []
    },
    "kernelspec": {
      "name": "python3",
      "display_name": "Python 3"
    },
    "language_info": {
      "name": "python"
    }
  },
  "cells": [
    {
      "cell_type": "markdown",
      "source": [
        "# Actividad Guiada 1\n",
        "# Oscar García González\n",
        "\n",
        "Link repositorio GitHub: https://github.com/OscarGGL/03MIAR-Algoritmos_de_optimizacion_2023.git"
      ],
      "metadata": {
        "id": "MGnGOXnz06uk"
      }
    },
    {
      "cell_type": "code",
      "source": [
        "# Problema torres de Hanoi\n",
        "\n",
        "def torres_de_hanoi(n , origen, destino, pivote):\n",
        "  if n == 1:\n",
        "    print(f\"Mover disco desde {origen} a {destino}\")\n",
        "    return\n",
        "\n",
        "  torres_de_hanoi(n-1, origen, pivote, destino)\n",
        "  print(f\"Mover disco desde {origen} a {destino}\")\n",
        "  torres_de_hanoi(n-1, pivote, destino, origen)\n",
        "\n",
        "torres_de_hanoi(6,1,3,2)"
      ],
      "metadata": {
        "colab": {
          "base_uri": "https://localhost:8080/",
          "height": 0
        },
        "id": "SIgSdSNd1CC1",
        "outputId": "3f7eeb21-0bb2-43f6-adcf-ff09726e0416"
      },
      "execution_count": 4,
      "outputs": [
        {
          "output_type": "stream",
          "name": "stdout",
          "text": [
            "Mover disco desde 1 a 2\n",
            "Mover disco desde 1 a 3\n",
            "Mover disco desde 2 a 3\n",
            "Mover disco desde 1 a 2\n",
            "Mover disco desde 3 a 1\n",
            "Mover disco desde 3 a 2\n",
            "Mover disco desde 1 a 2\n",
            "Mover disco desde 1 a 3\n",
            "Mover disco desde 2 a 3\n",
            "Mover disco desde 2 a 1\n",
            "Mover disco desde 3 a 1\n",
            "Mover disco desde 2 a 3\n",
            "Mover disco desde 1 a 2\n",
            "Mover disco desde 1 a 3\n",
            "Mover disco desde 2 a 3\n",
            "Mover disco desde 1 a 2\n",
            "Mover disco desde 3 a 1\n",
            "Mover disco desde 3 a 2\n",
            "Mover disco desde 1 a 2\n",
            "Mover disco desde 3 a 1\n",
            "Mover disco desde 2 a 3\n",
            "Mover disco desde 2 a 1\n",
            "Mover disco desde 3 a 1\n",
            "Mover disco desde 3 a 2\n",
            "Mover disco desde 1 a 2\n",
            "Mover disco desde 1 a 3\n",
            "Mover disco desde 2 a 3\n",
            "Mover disco desde 1 a 2\n",
            "Mover disco desde 3 a 1\n",
            "Mover disco desde 3 a 2\n",
            "Mover disco desde 1 a 2\n",
            "Mover disco desde 1 a 3\n",
            "Mover disco desde 2 a 3\n",
            "Mover disco desde 2 a 1\n",
            "Mover disco desde 3 a 1\n",
            "Mover disco desde 2 a 3\n",
            "Mover disco desde 1 a 2\n",
            "Mover disco desde 1 a 3\n",
            "Mover disco desde 2 a 3\n",
            "Mover disco desde 2 a 1\n",
            "Mover disco desde 3 a 1\n",
            "Mover disco desde 3 a 2\n",
            "Mover disco desde 1 a 2\n",
            "Mover disco desde 3 a 1\n",
            "Mover disco desde 2 a 3\n",
            "Mover disco desde 2 a 1\n",
            "Mover disco desde 3 a 1\n",
            "Mover disco desde 2 a 3\n",
            "Mover disco desde 1 a 2\n",
            "Mover disco desde 1 a 3\n",
            "Mover disco desde 2 a 3\n",
            "Mover disco desde 1 a 2\n",
            "Mover disco desde 3 a 1\n",
            "Mover disco desde 3 a 2\n",
            "Mover disco desde 1 a 2\n",
            "Mover disco desde 1 a 3\n",
            "Mover disco desde 2 a 3\n",
            "Mover disco desde 2 a 1\n",
            "Mover disco desde 3 a 1\n",
            "Mover disco desde 2 a 3\n",
            "Mover disco desde 1 a 2\n",
            "Mover disco desde 1 a 3\n",
            "Mover disco desde 2 a 3\n"
          ]
        }
      ]
    },
    {
      "cell_type": "code",
      "source": [
        "# Problema devolver cambio de monedas\n",
        "\n",
        "sistema = [25,10,5,1]\n",
        "\n",
        "def cambio_monedas(devolver, sistema):\n",
        "  print(\"sistema: \", sistema)\n",
        "\n",
        "  solucion = [0 for i in range(len(sistema))]\n",
        "\n",
        "  valor_acumulado = 0\n",
        "\n",
        "  for i in range(len(sistema)):\n",
        "    monedas = int((devolver - valor_acumulado) / sistema[i])\n",
        "    solucion[i] = monedas\n",
        "    valor_acumulado += monedas * sistema[i]\n",
        "\n",
        "    if valor_acumulado == devolver:\n",
        "      break\n",
        "  return solucion\n",
        "\n",
        "cambio_monedas(79, sistema)"
      ],
      "metadata": {
        "colab": {
          "base_uri": "https://localhost:8080/",
          "height": 0
        },
        "id": "eLkTIrto7Ivj",
        "outputId": "5c1843e5-49a4-46d4-be24-b59eb6424344"
      },
      "execution_count": 8,
      "outputs": [
        {
          "output_type": "stream",
          "name": "stdout",
          "text": [
            "sistema:  [25, 10, 5, 1]\n"
          ]
        },
        {
          "output_type": "execute_result",
          "data": {
            "text/plain": [
              "[3, 0, 0, 4]"
            ]
          },
          "metadata": {},
          "execution_count": 8
        }
      ]
    },
    {
      "cell_type": "code",
      "source": [
        "# Problema encontrar puntos más cercanos\n",
        "\n",
        "lista = [3403, 4537, 9098, 9784, 7445, 2145, 6559]\n",
        "\n",
        "def puntos_mas_cercanos(lista):\n",
        "\n",
        "    minima_dist = float('inf')\n",
        "    x = 0\n",
        "    y = 0\n",
        "\n",
        "    for i in range(len(lista)):\n",
        "        for j in range(i + 1, len(lista)):\n",
        "            actual_dist = abs(lista[i] - lista[j])\n",
        "\n",
        "            if actual_dist < minima_dist:\n",
        "                minima_dist = actual_dist\n",
        "                x = lista[i]\n",
        "                y = lista[j]\n",
        "    print(\"Los puntos más cercanos de la lista adjunta son: \", x, \" y \",  y)\n",
        "\n",
        "\n",
        "puntos_mas_cercanos(lista)"
      ],
      "metadata": {
        "colab": {
          "base_uri": "https://localhost:8080/"
        },
        "id": "09_zQGI_8lxr",
        "outputId": "375cf791-8d8a-47d7-f65b-e57975386456"
      },
      "execution_count": 17,
      "outputs": [
        {
          "output_type": "stream",
          "name": "stdout",
          "text": [
            "Los puntos más cercanos de la lista adjunta son:  9098  y  9784\n"
          ]
        }
      ]
    }
  ]
}